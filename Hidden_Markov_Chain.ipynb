{
  "nbformat": 4,
  "nbformat_minor": 0,
  "metadata": {
    "colab": {
      "provenance": [],
      "authorship_tag": "ABX9TyMkXPlyAPE/gFk6G97+rbYK",
      "include_colab_link": true
    },
    "kernelspec": {
      "name": "python3",
      "display_name": "Python 3"
    },
    "language_info": {
      "name": "python"
    }
  },
  "cells": [
    {
      "cell_type": "markdown",
      "metadata": {
        "id": "view-in-github",
        "colab_type": "text"
      },
      "source": [
        "<a href=\"https://colab.research.google.com/github/sk1895-ux/ml-experiment/blob/main/Hidden_Markov_Chain.ipynb\" target=\"_parent\"><img src=\"https://colab.research.google.com/assets/colab-badge.svg\" alt=\"Open In Colab\"/></a>"
      ]
    },
    {
      "cell_type": "code",
      "execution_count": 1,
      "metadata": {
        "colab": {
          "base_uri": "https://localhost:8080/"
        },
        "id": "JFB2rxOvon0A",
        "outputId": "d9e92845-1083-45d3-8e9b-3d2f30ca6817"
      },
      "outputs": [
        {
          "output_type": "stream",
          "name": "stdout",
          "text": [
            "Collecting hmmlearn\n",
            "  Downloading hmmlearn-0.3.3-cp312-cp312-manylinux_2_17_x86_64.manylinux2014_x86_64.whl.metadata (3.0 kB)\n",
            "Requirement already satisfied: numpy>=1.10 in /usr/local/lib/python3.12/dist-packages (from hmmlearn) (2.0.2)\n",
            "Requirement already satisfied: scikit-learn!=0.22.0,>=0.16 in /usr/local/lib/python3.12/dist-packages (from hmmlearn) (1.6.1)\n",
            "Requirement already satisfied: scipy>=0.19 in /usr/local/lib/python3.12/dist-packages (from hmmlearn) (1.16.2)\n",
            "Requirement already satisfied: joblib>=1.2.0 in /usr/local/lib/python3.12/dist-packages (from scikit-learn!=0.22.0,>=0.16->hmmlearn) (1.5.2)\n",
            "Requirement already satisfied: threadpoolctl>=3.1.0 in /usr/local/lib/python3.12/dist-packages (from scikit-learn!=0.22.0,>=0.16->hmmlearn) (3.6.0)\n",
            "Downloading hmmlearn-0.3.3-cp312-cp312-manylinux_2_17_x86_64.manylinux2014_x86_64.whl (165 kB)\n",
            "\u001b[2K   \u001b[90m━━━━━━━━━━━━━━━━━━━━━━━━━━━━━━━━━━━━━━━━\u001b[0m \u001b[32m166.0/166.0 kB\u001b[0m \u001b[31m3.0 MB/s\u001b[0m eta \u001b[36m0:00:00\u001b[0m\n",
            "\u001b[?25hInstalling collected packages: hmmlearn\n",
            "Successfully installed hmmlearn-0.3.3\n"
          ]
        }
      ],
      "source": [
        "!pip install hmmlearn"
      ]
    },
    {
      "cell_type": "code",
      "source": [
        "from hmmlearn import hmm\n",
        "import numpy as np\n",
        "# Hidden states and observation symbols\n",
        "states = [\"Sunny\", \"Rainy\"]\n",
        "observations = [\"Walk\", \"Shop\", \"Clean\"]\n",
        "\n",
        "# Define HMM parameters\n",
        "start_prob = np.array ([0.7, 0.3])\n",
        "trans_mat = np.array([[0.8, 0.2],\n",
        "[0.3, 0.7]])\n",
        "emit_mat = np.array([[0.6, 0.3, 0.1], # Sunny\n",
        "[0.1, 0.4, 0.5]]) # Rainy\n",
        "# Build the model\n",
        "model = hmm.MultinomialHMM(n_components=2, n_iter=100)\n",
        "model.startprob = start_prob\n",
        "model.transmat = trans_mat\n",
        "model.emissionprob = emit_mat\n",
        "model.n_trials = 1 # one trial per observation\n",
        "\n",
        "# Observed sequence: Walk (0), Shop (1), Clean (2), Shop (1), Walk(0)\n",
        "# Convert to one-hot representation (n_samples x n_symbols)\n",
        "obs_seq= np.array([\n",
        "[1, 0, 0], # Walk\n",
        "[0, 1, 0], # Shop\n",
        "[0, 0, 1], # Clean\n",
        "[0, 1, 0], # Shop\n",
        "[1, 0, 0], # Walk\n",
        "])\n",
        "\n",
        "# Fit the model to the observed sequence\n",
        "model.fit(obs_seq)\n",
        "\n",
        "# Decode (Viterbi)\n",
        "logprob, hidden_states = model.decode (obs_seq, algorithm=\"viterbi\")\n",
        "print(\"Observed sequence:\", [observations[np.argmax(o)] for o in obs_seq])\n",
        "print(\"Most likely hidden states:\", [states[i] for i in hidden_states])\n",
        "print(\"Log probability:\", logprob)"
      ],
      "metadata": {
        "colab": {
          "base_uri": "https://localhost:8080/"
        },
        "id": "jPy2xuvYsnAB",
        "outputId": "3d16fc5e-b44d-4454-896b-06505382a42b"
      },
      "execution_count": 2,
      "outputs": [
        {
          "output_type": "stream",
          "name": "stderr",
          "text": [
            "WARNING:hmmlearn.hmm:MultinomialHMM has undergone major changes. The previous version was implementing a CategoricalHMM (a special case of MultinomialHMM). This new implementation follows the standard definition for a Multinomial distribution (e.g. as in https://en.wikipedia.org/wiki/Multinomial_distribution). See these issues for details:\n",
            "https://github.com/hmmlearn/hmmlearn/issues/335\n",
            "https://github.com/hmmlearn/hmmlearn/issues/340\n"
          ]
        },
        {
          "output_type": "stream",
          "name": "stdout",
          "text": [
            "Observed sequence: ['Walk', 'Shop', 'Clean', 'Shop', 'Walk']\n",
            "Most likely hidden states: ['Sunny', 'Sunny', 'Sunny', 'Sunny', 'Sunny']\n",
            "Log probability: -5.756677121760633\n"
          ]
        }
      ]
    }
  ]
}